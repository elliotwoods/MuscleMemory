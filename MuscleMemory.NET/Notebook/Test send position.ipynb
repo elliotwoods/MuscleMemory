{
 "cells": [
  {
   "cell_type": "code",
   "execution_count": 6,
   "metadata": {},
   "outputs": [],
   "source": [
    "#r \"C:\\\\dev\\\\MuscleMemory\\\\MuscleMemory.NET\\\\bin\\\\x64\\\\Debug\\\\netcoreapp3.1\\\\Candle.NET.dll\"\n",
    "#r \"C:\\\\dev\\\\MuscleMemory\\\\MuscleMemory.NET\\\\bin\\\\x64\\\\Debug\\\\netcoreapp3.1\\\\MuscleMemory.NET.dll\"\n"
   ]
  },
  {
   "cell_type": "code",
   "execution_count": 8,
   "metadata": {},
   "outputs": [],
   "source": [
    "using MuscleMemory;\n",
    "using Candle;"
   ]
  },
  {
   "cell_type": "code",
   "execution_count": 10,
   "metadata": {},
   "outputs": [],
   "source": [
    "var busGroup = new MuscleMemory.BusGroup();\n"
   ]
  },
  {
   "cell_type": "code",
   "execution_count": 12,
   "metadata": {},
   "outputs": [],
   "source": [
    "busGroup.Open(500000)"
   ]
  },
  {
   "cell_type": "code",
   "execution_count": 13,
   "metadata": {},
   "outputs": [
    {
     "data": {
      "text/html": [
       "<table><thead><tr><th><i>index</i></th><th>IsOpen</th><th>Motors</th><th>Timestamp</th><th>Device</th><th>BusTraffic</th><th>DevicePath</th><th>Bitrate</th></tr></thead><tbody><tr><td>0</td><td><div class=\"dni-plaintext\">True</div></td><td><div class=\"dni-plaintext\">[  ]</div></td><td><div class=\"dni-plaintext\">0</div></td><td><div class=\"dni-plaintext\">Candle.Device</div></td><td><div class=\"dni-plaintext\">0</div></td><td><div class=\"dni-plaintext\">\\\\?\\usb#vid_1d50&amp;pid_606f&amp;mi_00#b&amp;13b875c8&amp;0&amp;0000#{c15b4308-04d3-11e6-b3ea-6057189e6443}</div></td><td><div class=\"dni-plaintext\">500000</div></td></tr><tr><td>1</td><td><div class=\"dni-plaintext\">True</div></td><td><div class=\"dni-plaintext\">[  ]</div></td><td><div class=\"dni-plaintext\">0</div></td><td><div class=\"dni-plaintext\">Candle.Device</div></td><td><div class=\"dni-plaintext\">0</div></td><td><div class=\"dni-plaintext\">\\\\?\\usb#vid_1d50&amp;pid_606f&amp;mi_00#b&amp;7f5be39&amp;0&amp;0000#{c15b4308-04d3-11e6-b3ea-6057189e6443}</div></td><td><div class=\"dni-plaintext\">500000</div></td></tr><tr><td>2</td><td><div class=\"dni-plaintext\">True</div></td><td><div class=\"dni-plaintext\">[  ]</div></td><td><div class=\"dni-plaintext\">0</div></td><td><div class=\"dni-plaintext\">Candle.Device</div></td><td><div class=\"dni-plaintext\">0</div></td><td><div class=\"dni-plaintext\">\\\\?\\usb#vid_1d50&amp;pid_606f&amp;mi_00#b&amp;33b20f5c&amp;0&amp;0000#{c15b4308-04d3-11e6-b3ea-6057189e6443}</div></td><td><div class=\"dni-plaintext\">500000</div></td></tr><tr><td>3</td><td><div class=\"dni-plaintext\">True</div></td><td><div class=\"dni-plaintext\">[  ]</div></td><td><div class=\"dni-plaintext\">0</div></td><td><div class=\"dni-plaintext\">Candle.Device</div></td><td><div class=\"dni-plaintext\">0</div></td><td><div class=\"dni-plaintext\">\\\\?\\usb#vid_1d50&amp;pid_606f&amp;mi_00#b&amp;497f4da&amp;0&amp;0000#{c15b4308-04d3-11e6-b3ea-6057189e6443}</div></td><td><div class=\"dni-plaintext\">500000</div></td></tr></tbody></table>"
      ]
     },
     "execution_count": 13,
     "metadata": {},
     "output_type": "execute_result"
    }
   ],
   "source": [
    "busGroup.Buses"
   ]
  },
  {
   "cell_type": "code",
   "execution_count": 14,
   "metadata": {},
   "outputs": [],
   "source": [
    "busGroup.Refresh()"
   ]
  },
  {
   "cell_type": "code",
   "execution_count": 15,
   "metadata": {},
   "outputs": [
    {
     "data": {
      "text/html": [
       "<table><thead><tr><th><i>index</i></th><th>IsOpen</th><th>Motors</th><th>Timestamp</th><th>Device</th><th>BusTraffic</th><th>DevicePath</th><th>Bitrate</th></tr></thead><tbody><tr><td>0</td><td><div class=\"dni-plaintext\">True</div></td><td><div class=\"dni-plaintext\">[ [41, MuscleMemory.Motor], [42, MuscleMemory.Motor], [43, MuscleMemory.Motor], [44, MuscleMemory.Motor], [45, MuscleMemory.Motor], [46, MuscleMemory.Motor], [47, MuscleMemory.Motor], [48, MuscleMemory.Motor], [49, MuscleMemory.Motor], [50, MuscleMemory.Motor], [51, MuscleMemory.Motor], [52, MuscleMemory.Motor], [53, MuscleMemory.Motor], [54, MuscleMemory.Motor], [55, MuscleMemory.Motor], [56, MuscleMemory.Motor], [57, MuscleMemory.Motor], [58, MuscleMemory.Motor], [59, MuscleMemory.Motor], [60, MuscleMemory.Motor] ... (2 more) ]</div></td><td><div class=\"dni-plaintext\">2132706505</div></td><td><div class=\"dni-plaintext\">Candle.Device</div></td><td><div class=\"dni-plaintext\">2.267228</div></td><td><div class=\"dni-plaintext\">\\\\?\\usb#vid_1d50&amp;pid_606f&amp;mi_00#b&amp;13b875c8&amp;0&amp;0000#{c15b4308-04d3-11e6-b3ea-6057189e6443}</div></td><td><div class=\"dni-plaintext\">500000</div></td></tr><tr><td>1</td><td><div class=\"dni-plaintext\">True</div></td><td><div class=\"dni-plaintext\">[ [63, MuscleMemory.Motor], [64, MuscleMemory.Motor], [65, MuscleMemory.Motor], [66, MuscleMemory.Motor], [67, MuscleMemory.Motor], [68, MuscleMemory.Motor], [69, MuscleMemory.Motor], [70, MuscleMemory.Motor], [71, MuscleMemory.Motor], [72, MuscleMemory.Motor], [73, MuscleMemory.Motor], [74, MuscleMemory.Motor], [75, MuscleMemory.Motor], [77, MuscleMemory.Motor], [78, MuscleMemory.Motor], [79, MuscleMemory.Motor], [80, MuscleMemory.Motor] ]</div></td><td><div class=\"dni-plaintext\">2134235508</div></td><td><div class=\"dni-plaintext\">Candle.Device</div></td><td><div class=\"dni-plaintext\">0.888456</div></td><td><div class=\"dni-plaintext\">\\\\?\\usb#vid_1d50&amp;pid_606f&amp;mi_00#b&amp;7f5be39&amp;0&amp;0000#{c15b4308-04d3-11e6-b3ea-6057189e6443}</div></td><td><div class=\"dni-plaintext\">500000</div></td></tr><tr><td>2</td><td><div class=\"dni-plaintext\">True</div></td><td><div class=\"dni-plaintext\">[ [1, MuscleMemory.Motor], [2, MuscleMemory.Motor], [3, MuscleMemory.Motor], [4, MuscleMemory.Motor], [5, MuscleMemory.Motor], [6, MuscleMemory.Motor], [7, MuscleMemory.Motor], [8, MuscleMemory.Motor], [9, MuscleMemory.Motor], [10, MuscleMemory.Motor], [11, MuscleMemory.Motor], [12, MuscleMemory.Motor], [13, MuscleMemory.Motor], [14, MuscleMemory.Motor], [15, MuscleMemory.Motor], [16, MuscleMemory.Motor], [17, MuscleMemory.Motor], [18, MuscleMemory.Motor], [19, MuscleMemory.Motor], [20, MuscleMemory.Motor] ... (2 more) ]</div></td><td><div class=\"dni-plaintext\">2135337509</div></td><td><div class=\"dni-plaintext\">Candle.Device</div></td><td><div class=\"dni-plaintext\">2.2463</div></td><td><div class=\"dni-plaintext\">\\\\?\\usb#vid_1d50&amp;pid_606f&amp;mi_00#b&amp;33b20f5c&amp;0&amp;0000#{c15b4308-04d3-11e6-b3ea-6057189e6443}</div></td><td><div class=\"dni-plaintext\">500000</div></td></tr><tr><td>3</td><td><div class=\"dni-plaintext\">True</div></td><td><div class=\"dni-plaintext\">[ [23, MuscleMemory.Motor], [24, MuscleMemory.Motor], [25, MuscleMemory.Motor], [26, MuscleMemory.Motor], [27, MuscleMemory.Motor], [28, MuscleMemory.Motor], [29, MuscleMemory.Motor], [30, MuscleMemory.Motor], [31, MuscleMemory.Motor], [32, MuscleMemory.Motor], [33, MuscleMemory.Motor], [34, MuscleMemory.Motor], [35, MuscleMemory.Motor], [36, MuscleMemory.Motor], [37, MuscleMemory.Motor], [38, MuscleMemory.Motor], [40, MuscleMemory.Motor] ]</div></td><td><div class=\"dni-plaintext\">2134447910</div></td><td><div class=\"dni-plaintext\">Candle.Device</div></td><td><div class=\"dni-plaintext\">0.87774</div></td><td><div class=\"dni-plaintext\">\\\\?\\usb#vid_1d50&amp;pid_606f&amp;mi_00#b&amp;497f4da&amp;0&amp;0000#{c15b4308-04d3-11e6-b3ea-6057189e6443}</div></td><td><div class=\"dni-plaintext\">500000</div></td></tr></tbody></table>"
      ]
     },
     "execution_count": 15,
     "metadata": {},
     "output_type": "execute_result"
    }
   ],
   "source": [
    "busGroup.Buses"
   ]
  },
  {
   "cell_type": "code",
   "execution_count": 25,
   "metadata": {},
   "outputs": [],
   "source": [
    "var message = new Messages.WriteRequest();\n",
    "message.ID = 1;\n",
    "message.RegisterType = Messages.RegisterType.TargetPosition;\n",
    "message.Value = 1 << 14 * 0;"
   ]
  },
  {
   "cell_type": "code",
   "execution_count": 26,
   "metadata": {},
   "outputs": [],
   "source": [
    "busGroup.Buses[2].Send(message);"
   ]
  },
  {
   "cell_type": "code",
   "execution_count": 27,
   "metadata": {},
   "outputs": [],
   "source": [
    "busGroup.Close()"
   ]
  },
  {
   "cell_type": "code",
   "execution_count": null,
   "metadata": {},
   "outputs": [],
   "source": []
  }
 ],
 "metadata": {
  "kernelspec": {
   "display_name": ".NET (C#)",
   "language": "C#",
   "name": ".net-csharp"
  },
  "language_info": {
   "file_extension": ".cs",
   "mimetype": "text/x-csharp",
   "name": "C#",
   "pygments_lexer": "csharp",
   "version": "8.0"
  }
 },
 "nbformat": 4,
 "nbformat_minor": 4
}
