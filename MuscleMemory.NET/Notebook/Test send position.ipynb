{
 "cells": [
  {
   "cell_type": "code",
   "execution_count": 1,
   "metadata": {},
   "outputs": [
    {
     "data": {
      "text/html": [
       "\r\n",
       "<div>\r\n",
       "    <div id='dotnet-interactive-this-cell-21528.Microsoft.DotNet.Interactive.Http.HttpPort' style='display: none'>\r\n",
       "        The below script needs to be able to find the current output cell; this is an easy method to get it.\r\n",
       "    </div>\r\n",
       "    <script type='text/javascript'>\r\n",
       "async function probeAddresses(probingAddresses) {\r\n",
       "    function timeout(ms, promise) {\r\n",
       "        return new Promise(function (resolve, reject) {\r\n",
       "            setTimeout(function () {\r\n",
       "                reject(new Error('timeout'))\r\n",
       "            }, ms)\r\n",
       "            promise.then(resolve, reject)\r\n",
       "        })\r\n",
       "    }\r\n",
       "\r\n",
       "    if (Array.isArray(probingAddresses)) {\r\n",
       "        for (let i = 0; i < probingAddresses.length; i++) {\r\n",
       "\r\n",
       "            let rootUrl = probingAddresses[i];\r\n",
       "\r\n",
       "            if (!rootUrl.endsWith('/')) {\r\n",
       "                rootUrl = `${rootUrl}/`;\r\n",
       "            }\r\n",
       "\r\n",
       "            try {\r\n",
       "                let response = await timeout(1000, fetch(`${rootUrl}discovery`, {\r\n",
       "                    method: 'POST',\r\n",
       "                    cache: 'no-cache',\r\n",
       "                    mode: 'cors',\r\n",
       "                    timeout: 1000,\r\n",
       "                    headers: {\r\n",
       "                        'Content-Type': 'text/plain'\r\n",
       "                    },\r\n",
       "                    body: probingAddresses[i]\r\n",
       "                }));\r\n",
       "\r\n",
       "                if (response.status == 200) {\r\n",
       "                    return rootUrl;\r\n",
       "                }\r\n",
       "            }\r\n",
       "            catch (e) { }\r\n",
       "        }\r\n",
       "    }\r\n",
       "}\r\n",
       "\r\n",
       "function loadDotnetInteractiveApi() {\r\n",
       "    probeAddresses([\"http://192.168.0.26:1000/\", \"http://172.17.244.33:1000/\", \"http://127.0.0.1:1000/\"])\r\n",
       "        .then((root) => {\r\n",
       "        // use probing to find host url and api resources\r\n",
       "        // load interactive helpers and language services\r\n",
       "        let dotnetInteractiveRequire = require.config({\r\n",
       "        context: '21528.Microsoft.DotNet.Interactive.Http.HttpPort',\r\n",
       "                paths:\r\n",
       "            {\r\n",
       "                'dotnet-interactive': `${root}resources`\r\n",
       "                }\r\n",
       "        }) || require;\r\n",
       "\r\n",
       "            window.dotnetInteractiveRequire = dotnetInteractiveRequire;\r\n",
       "\r\n",
       "            window.configureRequireFromExtension = function(extensionName, extensionCacheBuster) {\r\n",
       "                let paths = {};\r\n",
       "                paths[extensionName] = `${root}extensions/${extensionName}/resources/`;\r\n",
       "                \r\n",
       "                let internalRequire = require.config({\r\n",
       "                    context: extensionCacheBuster,\r\n",
       "                    paths: paths,\r\n",
       "                    urlArgs: `cacheBuster=${extensionCacheBuster}`\r\n",
       "                    }) || require;\r\n",
       "\r\n",
       "                return internalRequire\r\n",
       "            };\r\n",
       "        \r\n",
       "            dotnetInteractiveRequire([\r\n",
       "                    'dotnet-interactive/dotnet-interactive'\r\n",
       "                ],\r\n",
       "                function (dotnet) {\r\n",
       "                    dotnet.init(window);\r\n",
       "                },\r\n",
       "                function (error) {\r\n",
       "                    console.log(error);\r\n",
       "                }\r\n",
       "            );\r\n",
       "        })\r\n",
       "        .catch(error => {console.log(error);});\r\n",
       "    }\r\n",
       "\r\n",
       "// ensure `require` is available globally\r\n",
       "if ((typeof(require) !==  typeof(Function)) || (typeof(require.config) !== typeof(Function))) {\r\n",
       "    let require_script = document.createElement('script');\r\n",
       "    require_script.setAttribute('src', 'https://cdnjs.cloudflare.com/ajax/libs/require.js/2.3.6/require.min.js');\r\n",
       "    require_script.setAttribute('type', 'text/javascript');\r\n",
       "    \r\n",
       "    \r\n",
       "    require_script.onload = function() {\r\n",
       "        loadDotnetInteractiveApi();\r\n",
       "    };\r\n",
       "\r\n",
       "    document.getElementsByTagName('head')[0].appendChild(require_script);\r\n",
       "}\r\n",
       "else {\r\n",
       "    loadDotnetInteractiveApi();\r\n",
       "}\r\n",
       "\r\n",
       "    </script>\r\n",
       "</div>"
      ]
     },
     "metadata": {},
     "output_type": "display_data"
    }
   ],
   "source": [
    "#r \"C:\\\\dev\\\\MuscleMemory\\\\MuscleMemory.NET\\\\bin\\\\x64\\\\Debug\\\\netcoreapp3.1\\\\Candle.NET.dll\"\n",
    "#r \"C:\\\\dev\\\\MuscleMemory\\\\MuscleMemory.NET\\\\bin\\\\x64\\\\Debug\\\\netcoreapp3.1\\\\MuscleMemory.NET.dll\"\n"
   ]
  },
  {
   "cell_type": "code",
   "execution_count": 2,
   "metadata": {},
   "outputs": [],
   "source": [
    "using MuscleMemory;\n",
    "using Candle;"
   ]
  },
  {
   "cell_type": "code",
   "execution_count": 3,
   "metadata": {},
   "outputs": [],
   "source": [
    "var busGroup = new MuscleMemory.BusGroup();\n"
   ]
  },
  {
   "cell_type": "code",
   "execution_count": 4,
   "metadata": {},
   "outputs": [],
   "source": [
    "busGroup.Open(500000)"
   ]
  },
  {
   "cell_type": "code",
   "execution_count": 5,
   "metadata": {},
   "outputs": [
    {
     "data": {
      "text/html": [
       "<table><thead><tr><th><i>index</i></th><th>IsOpen</th><th>Motors</th><th>Timestamp</th><th>Device</th><th>BusTraffic</th><th>DevicePath</th><th>Bitrate</th></tr></thead><tbody><tr><td>0</td><td><div class=\"dni-plaintext\">True</div></td><td><div class=\"dni-plaintext\">[  ]</div></td><td><div class=\"dni-plaintext\">0</div></td><td><div class=\"dni-plaintext\">Candle.Device</div></td><td><div class=\"dni-plaintext\">0</div></td><td><div class=\"dni-plaintext\">\\\\?\\usb#vid_1d50&amp;pid_606f&amp;mi_00#b&amp;13b875c8&amp;0&amp;0000#{c15b4308-04d3-11e6-b3ea-6057189e6443}</div></td><td><div class=\"dni-plaintext\">500000</div></td></tr><tr><td>1</td><td><div class=\"dni-plaintext\">True</div></td><td><div class=\"dni-plaintext\">[  ]</div></td><td><div class=\"dni-plaintext\">0</div></td><td><div class=\"dni-plaintext\">Candle.Device</div></td><td><div class=\"dni-plaintext\">0</div></td><td><div class=\"dni-plaintext\">\\\\?\\usb#vid_1d50&amp;pid_606f&amp;mi_00#b&amp;7f5be39&amp;0&amp;0000#{c15b4308-04d3-11e6-b3ea-6057189e6443}</div></td><td><div class=\"dni-plaintext\">500000</div></td></tr><tr><td>2</td><td><div class=\"dni-plaintext\">True</div></td><td><div class=\"dni-plaintext\">[  ]</div></td><td><div class=\"dni-plaintext\">0</div></td><td><div class=\"dni-plaintext\">Candle.Device</div></td><td><div class=\"dni-plaintext\">0</div></td><td><div class=\"dni-plaintext\">\\\\?\\usb#vid_1d50&amp;pid_606f&amp;mi_00#b&amp;33b20f5c&amp;0&amp;0000#{c15b4308-04d3-11e6-b3ea-6057189e6443}</div></td><td><div class=\"dni-plaintext\">500000</div></td></tr><tr><td>3</td><td><div class=\"dni-plaintext\">True</div></td><td><div class=\"dni-plaintext\">[  ]</div></td><td><div class=\"dni-plaintext\">0</div></td><td><div class=\"dni-plaintext\">Candle.Device</div></td><td><div class=\"dni-plaintext\">0</div></td><td><div class=\"dni-plaintext\">\\\\?\\usb#vid_1d50&amp;pid_606f&amp;mi_00#b&amp;497f4da&amp;0&amp;0000#{c15b4308-04d3-11e6-b3ea-6057189e6443}</div></td><td><div class=\"dni-plaintext\">500000</div></td></tr></tbody></table>"
      ]
     },
     "execution_count": 5,
     "metadata": {},
     "output_type": "execute_result"
    }
   ],
   "source": [
    "busGroup.Buses"
   ]
  },
  {
   "cell_type": "code",
   "execution_count": 6,
   "metadata": {},
   "outputs": [],
   "source": [
    "busGroup.Refresh()"
   ]
  },
  {
   "cell_type": "code",
   "execution_count": 7,
   "metadata": {},
   "outputs": [
    {
     "data": {
      "text/html": [
       "<table><thead><tr><th><i>index</i></th><th>IsOpen</th><th>Motors</th><th>Timestamp</th><th>Device</th><th>BusTraffic</th><th>DevicePath</th><th>Bitrate</th></tr></thead><tbody><tr><td>0</td><td><div class=\"dni-plaintext\">True</div></td><td><div class=\"dni-plaintext\">[ [1, MuscleMemory.Motor], [2, MuscleMemory.Motor], [3, MuscleMemory.Motor], [4, MuscleMemory.Motor], [5, MuscleMemory.Motor], [6, MuscleMemory.Motor], [7, MuscleMemory.Motor], [8, MuscleMemory.Motor], [9, MuscleMemory.Motor], [10, MuscleMemory.Motor], [11, MuscleMemory.Motor], [12, MuscleMemory.Motor], [13, MuscleMemory.Motor], [14, MuscleMemory.Motor], [15, MuscleMemory.Motor], [16, MuscleMemory.Motor], [17, MuscleMemory.Motor], [18, MuscleMemory.Motor], [19, MuscleMemory.Motor], [20, MuscleMemory.Motor] ... (2 more) ]</div></td><td><div class=\"dni-plaintext\">857352571</div></td><td><div class=\"dni-plaintext\">Candle.Device</div></td><td><div class=\"dni-plaintext\">1.4371</div></td><td><div class=\"dni-plaintext\">\\\\?\\usb#vid_1d50&amp;pid_606f&amp;mi_00#b&amp;13b875c8&amp;0&amp;0000#{c15b4308-04d3-11e6-b3ea-6057189e6443}</div></td><td><div class=\"dni-plaintext\">500000</div></td></tr><tr><td>1</td><td><div class=\"dni-plaintext\">True</div></td><td><div class=\"dni-plaintext\">[ [23, MuscleMemory.Motor], [24, MuscleMemory.Motor], [25, MuscleMemory.Motor], [26, MuscleMemory.Motor], [27, MuscleMemory.Motor], [28, MuscleMemory.Motor], [29, MuscleMemory.Motor], [30, MuscleMemory.Motor], [31, MuscleMemory.Motor], [32, MuscleMemory.Motor], [33, MuscleMemory.Motor], [34, MuscleMemory.Motor], [35, MuscleMemory.Motor], [36, MuscleMemory.Motor], [37, MuscleMemory.Motor], [38, MuscleMemory.Motor], [40, MuscleMemory.Motor] ]</div></td><td><div class=\"dni-plaintext\">858248210</div></td><td><div class=\"dni-plaintext\">Candle.Device</div></td><td><div class=\"dni-plaintext\">0.733514</div></td><td><div class=\"dni-plaintext\">\\\\?\\usb#vid_1d50&amp;pid_606f&amp;mi_00#b&amp;7f5be39&amp;0&amp;0000#{c15b4308-04d3-11e6-b3ea-6057189e6443}</div></td><td><div class=\"dni-plaintext\">500000</div></td></tr><tr><td>2</td><td><div class=\"dni-plaintext\">True</div></td><td><div class=\"dni-plaintext\">[ [63, MuscleMemory.Motor], [64, MuscleMemory.Motor], [65, MuscleMemory.Motor], [66, MuscleMemory.Motor], [67, MuscleMemory.Motor], [68, MuscleMemory.Motor], [69, MuscleMemory.Motor], [70, MuscleMemory.Motor], [71, MuscleMemory.Motor], [72, MuscleMemory.Motor], [73, MuscleMemory.Motor], [74, MuscleMemory.Motor], [75, MuscleMemory.Motor], [77, MuscleMemory.Motor], [78, MuscleMemory.Motor], [79, MuscleMemory.Motor], [80, MuscleMemory.Motor] ]</div></td><td><div class=\"dni-plaintext\">859938442</div></td><td><div class=\"dni-plaintext\">Candle.Device</div></td><td><div class=\"dni-plaintext\">1.525466</div></td><td><div class=\"dni-plaintext\">\\\\?\\usb#vid_1d50&amp;pid_606f&amp;mi_00#b&amp;33b20f5c&amp;0&amp;0000#{c15b4308-04d3-11e6-b3ea-6057189e6443}</div></td><td><div class=\"dni-plaintext\">500000</div></td></tr><tr><td>3</td><td><div class=\"dni-plaintext\">True</div></td><td><div class=\"dni-plaintext\">[ [41, MuscleMemory.Motor], [42, MuscleMemory.Motor], [43, MuscleMemory.Motor], [44, MuscleMemory.Motor], [45, MuscleMemory.Motor], [46, MuscleMemory.Motor], [47, MuscleMemory.Motor], [48, MuscleMemory.Motor], [49, MuscleMemory.Motor], [50, MuscleMemory.Motor], [51, MuscleMemory.Motor], [52, MuscleMemory.Motor], [53, MuscleMemory.Motor], [54, MuscleMemory.Motor], [55, MuscleMemory.Motor], [56, MuscleMemory.Motor], [57, MuscleMemory.Motor], [58, MuscleMemory.Motor], [59, MuscleMemory.Motor], [60, MuscleMemory.Motor] ... (2 more) ]</div></td><td><div class=\"dni-plaintext\">859365731</div></td><td><div class=\"dni-plaintext\">Candle.Device</div></td><td><div class=\"dni-plaintext\">0.771718</div></td><td><div class=\"dni-plaintext\">\\\\?\\usb#vid_1d50&amp;pid_606f&amp;mi_00#b&amp;497f4da&amp;0&amp;0000#{c15b4308-04d3-11e6-b3ea-6057189e6443}</div></td><td><div class=\"dni-plaintext\">500000</div></td></tr></tbody></table>"
      ]
     },
     "execution_count": 7,
     "metadata": {},
     "output_type": "execute_result"
    }
   ],
   "source": [
    "busGroup.Buses"
   ]
  },
  {
   "cell_type": "code",
   "execution_count": 12,
   "metadata": {},
   "outputs": [
    {
     "data": {
      "text/html": [
       "<div class=\"dni-plaintext\">78</div>"
      ]
     },
     "execution_count": 12,
     "metadata": {},
     "output_type": "execute_result"
    }
   ],
   "source": [
    "int motorCount = 0;\n",
    "foreach(var bus in busGroup.Buses) {\n",
    "    motorCount += bus.Motors.Count;\n",
    "}\n",
    "motorCount"
   ]
  },
  {
   "cell_type": "code",
   "execution_count": 11,
   "metadata": {},
   "outputs": [],
   "source": [
    "var message = new Messages.WriteRequest();\n",
    "message.ID = 1;\n",
    "message.RegisterType = Messages.RegisterType.TargetPosition;\n",
    "message.Value = 1 << 14 * 0;"
   ]
  },
  {
   "cell_type": "code",
   "execution_count": 13,
   "metadata": {},
   "outputs": [],
   "source": [
    "busGroup.Close()"
   ]
  },
  {
   "cell_type": "code",
   "execution_count": null,
   "metadata": {},
   "outputs": [],
   "source": []
  }
 ],
 "metadata": {
  "kernelspec": {
   "display_name": ".NET (C#)",
   "language": "C#",
   "name": ".net-csharp"
  },
  "language_info": {
   "file_extension": ".cs",
   "mimetype": "text/x-csharp",
   "name": "C#",
   "pygments_lexer": "csharp",
   "version": "8.0"
  }
 },
 "nbformat": 4,
 "nbformat_minor": 4
}
